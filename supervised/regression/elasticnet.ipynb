{
 "cells": [
  {
   "cell_type": "code",
   "execution_count": 39,
   "id": "1da45c70",
   "metadata": {},
   "outputs": [],
   "source": [
    "import pandas as pd\n",
    "import numpy as np\n",
    "\n",
    "from sklearn.linear_model import ElasticNet, ElasticNetCV\n",
    "from sklearn.model_selection import train_test_split\n",
    "from sklearn.metrics import mean_squared_error, r2_score\n",
    "from sklearn.impute import SimpleImputer\n",
    "from sklearn.preprocessing import StandardScaler\n",
    "from sklearn.pipeline import make_pipeline"
   ]
  },
  {
   "cell_type": "code",
   "execution_count": 40,
   "id": "9ecc201c",
   "metadata": {},
   "outputs": [],
   "source": [
    "data = pd.read_csv(\"dataset.csv\")\n",
    "\n",
    "data = pd.get_dummies(data, columns=[\"ocean_proximity\"])\n",
    "\n",
    "data.head()\n",
    "\n",
    "X = data.drop(columns=[\"median_house_value\"])\n",
    "y = data[\"median_house_value\"]"
   ]
  },
  {
   "cell_type": "code",
   "execution_count": 41,
   "id": "0814e7bd",
   "metadata": {},
   "outputs": [],
   "source": [
    "imputer = SimpleImputer(strategy=\"mean\")\n",
    "X = pd.DataFrame(imputer.fit_transform(X), columns=X.columns)"
   ]
  },
  {
   "cell_type": "code",
   "execution_count": 42,
   "id": "14675a72",
   "metadata": {},
   "outputs": [],
   "source": [
    "scaler = StandardScaler()\n",
    "X = pd.DataFrame(scaler.fit_transform(X), columns=X.columns)"
   ]
  },
  {
   "cell_type": "code",
   "execution_count": 43,
   "id": "f278100c",
   "metadata": {},
   "outputs": [],
   "source": [
    "X_train, X_test, y_train, y_test = train_test_split(X, y, test_size=0.2, random_state=42)"
   ]
  },
  {
   "cell_type": "code",
   "execution_count": 44,
   "id": "33b5c813",
   "metadata": {},
   "outputs": [
    {
     "name": "stderr",
     "output_type": "stream",
     "text": [
      "/home/muxdust/Documents/machine learning/.venv/lib/python3.11/site-packages/sklearn/linear_model/_coordinate_descent.py:681: ConvergenceWarning: Objective did not converge. You might want to increase the number of iterations, check the scale of the features or consider increasing regularisation. Duality gap: 2.683e+10, tolerance: 1.755e+10\n",
      "  model = cd_fast.enet_coordinate_descent_gram(\n",
      "/home/muxdust/Documents/machine learning/.venv/lib/python3.11/site-packages/sklearn/linear_model/_coordinate_descent.py:681: ConvergenceWarning: Objective did not converge. You might want to increase the number of iterations, check the scale of the features or consider increasing regularisation. Duality gap: 2.336e+10, tolerance: 1.779e+10\n",
      "  model = cd_fast.enet_coordinate_descent_gram(\n",
      "/home/muxdust/Documents/machine learning/.venv/lib/python3.11/site-packages/sklearn/linear_model/_coordinate_descent.py:681: ConvergenceWarning: Objective did not converge. You might want to increase the number of iterations, check the scale of the features or consider increasing regularisation. Duality gap: 1.823e+10, tolerance: 1.763e+10\n",
      "  model = cd_fast.enet_coordinate_descent_gram(\n",
      "/home/muxdust/Documents/machine learning/.venv/lib/python3.11/site-packages/sklearn/linear_model/_coordinate_descent.py:681: ConvergenceWarning: Objective did not converge. You might want to increase the number of iterations, check the scale of the features or consider increasing regularisation. Duality gap: 2.065e+13, tolerance: 1.755e+10\n",
      "  model = cd_fast.enet_coordinate_descent_gram(\n",
      "/home/muxdust/Documents/machine learning/.venv/lib/python3.11/site-packages/sklearn/linear_model/_coordinate_descent.py:681: ConvergenceWarning: Objective did not converge. You might want to increase the number of iterations, check the scale of the features or consider increasing regularisation. Duality gap: 2.013e+13, tolerance: 1.779e+10\n",
      "  model = cd_fast.enet_coordinate_descent_gram(\n",
      "/home/muxdust/Documents/machine learning/.venv/lib/python3.11/site-packages/sklearn/linear_model/_coordinate_descent.py:681: ConvergenceWarning: Objective did not converge. You might want to increase the number of iterations, check the scale of the features or consider increasing regularisation. Duality gap: 1.901e+13, tolerance: 1.763e+10\n",
      "  model = cd_fast.enet_coordinate_descent_gram(\n",
      "/home/muxdust/Documents/machine learning/.venv/lib/python3.11/site-packages/sklearn/linear_model/_coordinate_descent.py:681: ConvergenceWarning: Objective did not converge. You might want to increase the number of iterations, check the scale of the features or consider increasing regularisation. Duality gap: 1.927e+13, tolerance: 1.776e+10\n",
      "  model = cd_fast.enet_coordinate_descent_gram(\n",
      "/home/muxdust/Documents/machine learning/.venv/lib/python3.11/site-packages/sklearn/linear_model/_coordinate_descent.py:681: ConvergenceWarning: Objective did not converge. You might want to increase the number of iterations, check the scale of the features or consider increasing regularisation. Duality gap: 1.652e+13, tolerance: 1.757e+10\n",
      "  model = cd_fast.enet_coordinate_descent_gram(\n",
      "/home/muxdust/Documents/machine learning/.venv/lib/python3.11/site-packages/sklearn/linear_model/_coordinate_descent.py:681: ConvergenceWarning: Objective did not converge. You might want to increase the number of iterations, check the scale of the features or consider increasing regularisation. Duality gap: 3.223e+10, tolerance: 1.755e+10\n",
      "  model = cd_fast.enet_coordinate_descent_gram(\n",
      "/home/muxdust/Documents/machine learning/.venv/lib/python3.11/site-packages/sklearn/linear_model/_coordinate_descent.py:681: ConvergenceWarning: Objective did not converge. You might want to increase the number of iterations, check the scale of the features or consider increasing regularisation. Duality gap: 3.099e+10, tolerance: 1.755e+10\n",
      "  model = cd_fast.enet_coordinate_descent_gram(\n",
      "/home/muxdust/Documents/machine learning/.venv/lib/python3.11/site-packages/sklearn/linear_model/_coordinate_descent.py:681: ConvergenceWarning: Objective did not converge. You might want to increase the number of iterations, check the scale of the features or consider increasing regularisation. Duality gap: 3.087e+10, tolerance: 1.755e+10\n",
      "  model = cd_fast.enet_coordinate_descent_gram(\n",
      "/home/muxdust/Documents/machine learning/.venv/lib/python3.11/site-packages/sklearn/linear_model/_coordinate_descent.py:681: ConvergenceWarning: Objective did not converge. You might want to increase the number of iterations, check the scale of the features or consider increasing regularisation. Duality gap: 3.086e+10, tolerance: 1.755e+10\n",
      "  model = cd_fast.enet_coordinate_descent_gram(\n",
      "/home/muxdust/Documents/machine learning/.venv/lib/python3.11/site-packages/sklearn/linear_model/_coordinate_descent.py:681: ConvergenceWarning: Objective did not converge. You might want to increase the number of iterations, check the scale of the features or consider increasing regularisation. Duality gap: 3.220e+10, tolerance: 1.779e+10\n",
      "  model = cd_fast.enet_coordinate_descent_gram(\n",
      "/home/muxdust/Documents/machine learning/.venv/lib/python3.11/site-packages/sklearn/linear_model/_coordinate_descent.py:681: ConvergenceWarning: Objective did not converge. You might want to increase the number of iterations, check the scale of the features or consider increasing regularisation. Duality gap: 3.100e+10, tolerance: 1.779e+10\n",
      "  model = cd_fast.enet_coordinate_descent_gram(\n",
      "/home/muxdust/Documents/machine learning/.venv/lib/python3.11/site-packages/sklearn/linear_model/_coordinate_descent.py:681: ConvergenceWarning: Objective did not converge. You might want to increase the number of iterations, check the scale of the features or consider increasing regularisation. Duality gap: 3.088e+10, tolerance: 1.779e+10\n",
      "  model = cd_fast.enet_coordinate_descent_gram(\n",
      "/home/muxdust/Documents/machine learning/.venv/lib/python3.11/site-packages/sklearn/linear_model/_coordinate_descent.py:681: ConvergenceWarning: Objective did not converge. You might want to increase the number of iterations, check the scale of the features or consider increasing regularisation. Duality gap: 3.086e+10, tolerance: 1.779e+10\n",
      "  model = cd_fast.enet_coordinate_descent_gram(\n",
      "/home/muxdust/Documents/machine learning/.venv/lib/python3.11/site-packages/sklearn/linear_model/_coordinate_descent.py:681: ConvergenceWarning: Objective did not converge. You might want to increase the number of iterations, check the scale of the features or consider increasing regularisation. Duality gap: 3.262e+10, tolerance: 1.763e+10\n",
      "  model = cd_fast.enet_coordinate_descent_gram(\n",
      "/home/muxdust/Documents/machine learning/.venv/lib/python3.11/site-packages/sklearn/linear_model/_coordinate_descent.py:681: ConvergenceWarning: Objective did not converge. You might want to increase the number of iterations, check the scale of the features or consider increasing regularisation. Duality gap: 3.143e+10, tolerance: 1.763e+10\n",
      "  model = cd_fast.enet_coordinate_descent_gram(\n",
      "/home/muxdust/Documents/machine learning/.venv/lib/python3.11/site-packages/sklearn/linear_model/_coordinate_descent.py:681: ConvergenceWarning: Objective did not converge. You might want to increase the number of iterations, check the scale of the features or consider increasing regularisation. Duality gap: 3.131e+10, tolerance: 1.763e+10\n",
      "  model = cd_fast.enet_coordinate_descent_gram(\n",
      "/home/muxdust/Documents/machine learning/.venv/lib/python3.11/site-packages/sklearn/linear_model/_coordinate_descent.py:681: ConvergenceWarning: Objective did not converge. You might want to increase the number of iterations, check the scale of the features or consider increasing regularisation. Duality gap: 3.129e+10, tolerance: 1.763e+10\n",
      "  model = cd_fast.enet_coordinate_descent_gram(\n",
      "/home/muxdust/Documents/machine learning/.venv/lib/python3.11/site-packages/sklearn/linear_model/_coordinate_descent.py:681: ConvergenceWarning: Objective did not converge. You might want to increase the number of iterations, check the scale of the features or consider increasing regularisation. Duality gap: 3.189e+10, tolerance: 1.776e+10\n",
      "  model = cd_fast.enet_coordinate_descent_gram(\n",
      "/home/muxdust/Documents/machine learning/.venv/lib/python3.11/site-packages/sklearn/linear_model/_coordinate_descent.py:681: ConvergenceWarning: Objective did not converge. You might want to increase the number of iterations, check the scale of the features or consider increasing regularisation. Duality gap: 3.066e+10, tolerance: 1.776e+10\n",
      "  model = cd_fast.enet_coordinate_descent_gram(\n",
      "/home/muxdust/Documents/machine learning/.venv/lib/python3.11/site-packages/sklearn/linear_model/_coordinate_descent.py:681: ConvergenceWarning: Objective did not converge. You might want to increase the number of iterations, check the scale of the features or consider increasing regularisation. Duality gap: 3.054e+10, tolerance: 1.776e+10\n",
      "  model = cd_fast.enet_coordinate_descent_gram(\n",
      "/home/muxdust/Documents/machine learning/.venv/lib/python3.11/site-packages/sklearn/linear_model/_coordinate_descent.py:681: ConvergenceWarning: Objective did not converge. You might want to increase the number of iterations, check the scale of the features or consider increasing regularisation. Duality gap: 3.052e+10, tolerance: 1.776e+10\n",
      "  model = cd_fast.enet_coordinate_descent_gram(\n",
      "/home/muxdust/Documents/machine learning/.venv/lib/python3.11/site-packages/sklearn/linear_model/_coordinate_descent.py:681: ConvergenceWarning: Objective did not converge. You might want to increase the number of iterations, check the scale of the features or consider increasing regularisation. Duality gap: 3.237e+10, tolerance: 1.757e+10\n",
      "  model = cd_fast.enet_coordinate_descent_gram(\n",
      "/home/muxdust/Documents/machine learning/.venv/lib/python3.11/site-packages/sklearn/linear_model/_coordinate_descent.py:681: ConvergenceWarning: Objective did not converge. You might want to increase the number of iterations, check the scale of the features or consider increasing regularisation. Duality gap: 3.108e+10, tolerance: 1.757e+10\n",
      "  model = cd_fast.enet_coordinate_descent_gram(\n",
      "/home/muxdust/Documents/machine learning/.venv/lib/python3.11/site-packages/sklearn/linear_model/_coordinate_descent.py:681: ConvergenceWarning: Objective did not converge. You might want to increase the number of iterations, check the scale of the features or consider increasing regularisation. Duality gap: 3.095e+10, tolerance: 1.757e+10\n",
      "  model = cd_fast.enet_coordinate_descent_gram(\n",
      "/home/muxdust/Documents/machine learning/.venv/lib/python3.11/site-packages/sklearn/linear_model/_coordinate_descent.py:681: ConvergenceWarning: Objective did not converge. You might want to increase the number of iterations, check the scale of the features or consider increasing regularisation. Duality gap: 3.094e+10, tolerance: 1.757e+10\n",
      "  model = cd_fast.enet_coordinate_descent_gram(\n"
     ]
    },
    {
     "name": "stdout",
     "output_type": "stream",
     "text": [
      "Best alpha: 0.01\n",
      "Best l1_ratio: 0.9\n"
     ]
    },
    {
     "name": "stderr",
     "output_type": "stream",
     "text": [
      "/home/muxdust/Documents/machine learning/.venv/lib/python3.11/site-packages/sklearn/linear_model/_coordinate_descent.py:695: ConvergenceWarning: Objective did not converge. You might want to increase the number of iterations, check the scale of the features or consider increasing regularisation. Duality gap: 3.744e+13, tolerance: 2.207e+10\n",
      "  model = cd_fast.enet_coordinate_descent(\n"
     ]
    }
   ],
   "source": [
    "model = make_pipeline(\n",
    "    ElasticNetCV(l1_ratio=[0.1, 0.5, 0.9, 1.0], alphas=[0.01, 0.1, 1, 10], cv=5)\n",
    ")\n",
    "model.fit(X_train, y_train)\n",
    "\n",
    "print(\"Best alpha:\", model.named_steps['elasticnetcv'].alpha_)\n",
    "print(\"Best l1_ratio:\", model.named_steps['elasticnetcv'].l1_ratio_)\n",
    "\n",
    "y_pred = model.predict(X_test)"
   ]
  },
  {
   "cell_type": "code",
   "execution_count": 45,
   "id": "ddf0c6ce",
   "metadata": {},
   "outputs": [
    {
     "name": "stdout",
     "output_type": "stream",
     "text": [
      "Mean Squared Error: 4898335555.370161\n",
      "R-squared: 0.626197955240988\n"
     ]
    }
   ],
   "source": [
    "mse = mean_squared_error(y_test, y_pred)\n",
    "r2 = r2_score(y_test, y_pred)\n",
    "\n",
    "print(f\"Mean Squared Error: {mse}\")\n",
    "print(f\"R-squared: {r2}\")"
   ]
  }
 ],
 "metadata": {
  "kernelspec": {
   "display_name": ".venv",
   "language": "python",
   "name": "python3"
  },
  "language_info": {
   "codemirror_mode": {
    "name": "ipython",
    "version": 3
   },
   "file_extension": ".py",
   "mimetype": "text/x-python",
   "name": "python",
   "nbconvert_exporter": "python",
   "pygments_lexer": "ipython3",
   "version": "3.11.9"
  }
 },
 "nbformat": 4,
 "nbformat_minor": 5
}
