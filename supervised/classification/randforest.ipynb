{
 "cells": [
  {
   "cell_type": "code",
   "execution_count": 1,
   "id": "be1a6ffd",
   "metadata": {},
   "outputs": [],
   "source": [
    "import pandas as pd\n",
    "import numpy as np\n",
    "\n",
    "from sklearn.model_selection import train_test_split\n",
    "from sklearn.preprocessing import StandardScaler\n",
    "from sklearn.ensemble import RandomForestClassifier\n",
    "from sklearn.metrics import accuracy_score, confusion_matrix, classification_report\n",
    "from sklearn.impute import SimpleImputer"
   ]
  },
  {
   "cell_type": "code",
   "execution_count": 2,
   "id": "4fca3385",
   "metadata": {},
   "outputs": [],
   "source": [
    "data = pd.read_csv('dataset.csv')\n",
    "\n",
    "X = data.drop('Personality', axis=1)\n",
    "X = pd.get_dummies(X, drop_first=True)\n",
    "y = data['Personality']"
   ]
  },
  {
   "cell_type": "code",
   "execution_count": 3,
   "id": "6473f205",
   "metadata": {},
   "outputs": [],
   "source": [
    "scaler = StandardScaler()\n",
    "X = pd.DataFrame(scaler.fit_transform(X), columns=X.columns)"
   ]
  },
  {
   "cell_type": "code",
   "execution_count": 4,
   "id": "b7a9b8e5",
   "metadata": {},
   "outputs": [],
   "source": [
    "imputer = SimpleImputer(strategy='mean')\n",
    "X = pd.DataFrame(imputer.fit_transform(X), columns=X.columns)"
   ]
  },
  {
   "cell_type": "code",
   "execution_count": 5,
   "id": "58ed04e9",
   "metadata": {},
   "outputs": [],
   "source": [
    "X_train, X_test, y_train, y_test = train_test_split(X, y, test_size=0.2, random_state=42)"
   ]
  },
  {
   "cell_type": "code",
   "execution_count": 6,
   "id": "da3715ed",
   "metadata": {},
   "outputs": [],
   "source": [
    "model = RandomForestClassifier(n_estimators=100, random_state=42)\n",
    "model.fit(X_train, y_train)\n",
    "y_pred = model.predict(X_test)"
   ]
  },
  {
   "cell_type": "code",
   "execution_count": 7,
   "id": "6205265d",
   "metadata": {},
   "outputs": [
    {
     "name": "stdout",
     "output_type": "stream",
     "text": [
      "Accuracy: 0.9241379310344827\n",
      "Confusion Matrix:\n",
      " [[277  25]\n",
      " [ 19 259]]\n",
      "Classification Report:\n",
      "               precision    recall  f1-score   support\n",
      "\n",
      "   Extrovert       0.94      0.92      0.93       302\n",
      "   Introvert       0.91      0.93      0.92       278\n",
      "\n",
      "    accuracy                           0.92       580\n",
      "   macro avg       0.92      0.92      0.92       580\n",
      "weighted avg       0.92      0.92      0.92       580\n",
      "\n"
     ]
    }
   ],
   "source": [
    "print(\"Accuracy:\", accuracy_score(y_test, y_pred))\n",
    "print(\"Confusion Matrix:\\n\", confusion_matrix(y_test, y_pred))\n",
    "print(\"Classification Report:\\n\", classification_report(y_test, y_pred))"
   ]
  },
  {
   "cell_type": "code",
   "execution_count": 8,
   "id": "d73427bb",
   "metadata": {},
   "outputs": [
    {
     "name": "stdout",
     "output_type": "stream",
     "text": [
      "Predicted Personality: Introvert\n"
     ]
    }
   ],
   "source": [
    "# Custom input for prediction\n",
    "custom_input = pd.DataFrame([{\n",
    "    \"Time_spent_Alone\": 7,\n",
    "    \"Stage_fear\": 1,\n",
    "    \"Social_event_attendance\": 1,\n",
    "    \"Going_outside\": 1,\n",
    "    \"Drained_after_socializing\": 5,\n",
    "    \"Friends_circle_size\": 1,\n",
    "    \"Post_frequency\": 2\n",
    "}])\n",
    "\n",
    "custom_input = pd.get_dummies(custom_input)\n",
    "custom_input = custom_input.reindex(columns=X.columns, fill_value=0)\n",
    "\n",
    "custom_input = pd.DataFrame(imputer.transform(custom_input), columns=X.columns)\n",
    "custom_input = pd.DataFrame(scaler.transform(custom_input), columns=X.columns)\n",
    "\n",
    "\n",
    "prediction = model.predict(custom_input)\n",
    "\n",
    "print(\"Predicted Personality:\", prediction[0])\n"
   ]
  }
 ],
 "metadata": {
  "kernelspec": {
   "display_name": ".venv",
   "language": "python",
   "name": "python3"
  },
  "language_info": {
   "codemirror_mode": {
    "name": "ipython",
    "version": 3
   },
   "file_extension": ".py",
   "mimetype": "text/x-python",
   "name": "python",
   "nbconvert_exporter": "python",
   "pygments_lexer": "ipython3",
   "version": "3.11.9"
  }
 },
 "nbformat": 4,
 "nbformat_minor": 5
}
